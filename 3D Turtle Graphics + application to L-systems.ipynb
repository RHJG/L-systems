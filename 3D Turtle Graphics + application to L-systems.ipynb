{
 "cells": [
  {
   "cell_type": "markdown",
   "metadata": {},
   "source": [
    "# A class for turtle graphics in 3D using VPython"
   ]
  },
  {
   "cell_type": "code",
   "execution_count": 1,
   "metadata": {},
   "outputs": [
    {
     "data": {
      "text/html": [
       "<div id=\"glowscript\" class=\"glowscript\"></div>"
      ],
      "text/plain": [
       "<IPython.core.display.HTML object>"
      ]
     },
     "metadata": {},
     "output_type": "display_data"
    },
    {
     "data": {
      "application/javascript": [
       "if (typeof Jupyter !== \"undefined\") { window.__context = { glowscript_container: $(\"#glowscript\").removeAttr(\"id\")};}else{ element.textContent = ' ';}"
      ],
      "text/plain": [
       "<IPython.core.display.Javascript object>"
      ]
     },
     "metadata": {},
     "output_type": "display_data"
    }
   ],
   "source": [
    "from vpython import *\n",
    "\n",
    "class Turtle3D:\n",
    "    def __init__(self, pos=vector(0,0,0), heading = vector(0,1,0), leftDirection = vector(0,0,1), upDirection = vector(1,0,0)):\n",
    "        self.position = pos\n",
    "        self.heading = heading\n",
    "        self.leftDirection = leftDirection\n",
    "        self.upDirection   = upDirection\n",
    "        self.isDrawing = True\n",
    "        \n",
    "    def forward(self, distance = 1):\n",
    "        oldPosition = self.position\n",
    "        self.position = self.position + distance * norm(self.heading)\n",
    "        if self.isDrawing:\n",
    "            curve(oldPosition, self.position)\n",
    "    \n",
    "    def turnLeft(self, angle = 22.5):\n",
    "        self.leftDirection = self.leftDirection.rotate(radians(angle),self.upDirection)\n",
    "        self.heading  = self.heading.rotate(radians(angle),self.upDirection)\n",
    "    \n",
    "    def turnRight(self, angle = 22.5):\n",
    "        self.leftDirection = self.leftDirection.rotate(radians(-angle),self.upDirection)\n",
    "        self.heading  = self.heading.rotate(radians(-angle),self.upDirection)\n",
    "    \n",
    "    def pitchUp(self, angle = 22.5):\n",
    "        self.upDirection = self.upDirection.rotate(radians(angle),self.leftDirection)\n",
    "        self.heading  = self.heading.rotate(radians(angle),self.leftDirection)\n",
    "    \n",
    "    def pitchDown(self, angle = 22.5):\n",
    "        self.upDirection = self.upDirection.rotate(radians(-angle),self.leftDirection)\n",
    "        self.heading  = self.heading.rotate(radians(-angle),self.leftDirection)\n",
    "    \n",
    "    def rollLeft(self, angle = 22.5):\n",
    "        self.upDirection = self.upDirection.rotate(radians(angle),self.heading)\n",
    "        self.leftDirection  = self.leftDirection.rotate(radians(angle),self.heading)\n",
    "    \n",
    "    def rollRight(self, angle = 22.5):\n",
    "        self.upDirection = self.upDirection.rotate(radians(-angle),self.heading)\n",
    "        self.leftDirection  = self.leftDirection.rotate(radians(-angle),self.heading)\n",
    "        \n",
    "    def xcor(self):\n",
    "        return(self.position.x)\n",
    "    \n",
    "    def ycor(self):\n",
    "        return(self.position.y)\n",
    "    \n",
    "    def zcor(self):\n",
    "        return(self.position.z)\n",
    "    \n",
    "    def penUp(self):\n",
    "        self.isDrawing = False\n",
    "    \n",
    "    def penDown(self):\n",
    "        self.isDrawing = True\n",
    "    \n",
    "    def setHeading(self,heading):\n",
    "        self.heading       = heading[0]\n",
    "        self.leftDirection = heading[1]\n",
    "        self.upDirection   = heading[2]\n",
    "    \n",
    "    def getHeading(self):\n",
    "        return((self.heading, self.leftDirection, self.upDirection))\n",
    "    \n",
    "    def setPosition(self, pos):\n",
    "        self.position = pos\n",
    "    \n",
    "    def getPosition(self):\n",
    "        return(self.position)\n",
    "    \n",
    "\n",
    "def turtle_interpretation_3D(instructions, delta = 22.5):\n",
    "    \"\"\"Interprets a set of instructions for a turtle to draw a tree in 3D. \"\"\"    \n",
    "    ############ INITIALIZATION #############\n",
    "    scene = canvas() # This is needed in Jupyter notebook and lab to make programs easily rerunnable\n",
    "    bob = Turtle3D()\n",
    "    \n",
    "    turtlePosStack = []\n",
    "    turtleHeadStack = []\n",
    "    \n",
    "    turtleXmax = 0\n",
    "    turtleXmin = 0\n",
    "    turtleYmax = 0 \n",
    "    turtleYmin = 0\n",
    "    turtleZmax = 0\n",
    "    turtleZmin = 0\n",
    "    \n",
    "    ######### MAIN FUNCTION ##############\n",
    "    for mod in instructions:\n",
    "        if mod.symbol == \"F\":\n",
    "            bob.forward()\n",
    "            #Note that we only need to update the max coordinates if the turtle has moved\n",
    "            turtleXmax = max(turtleXmax, bob.xcor())\n",
    "            turtleXmin = min(turtleXmin, bob.xcor())\n",
    "            turtleYmax = max(turtleYmax, bob.ycor())\n",
    "            turtleYmin = min(turtleYmin, bob.ycor())\n",
    "            turtleZmax = max(turtleZmax, bob.zcor())\n",
    "            turtleZmin = min(turtleZmin, bob.zcor()) \n",
    "        elif mod.symbol == \"f\":\n",
    "            bob.penUp()\n",
    "            bob.forward()\n",
    "            bob.penDown()\n",
    "        elif mod.symbol == \"+\":\n",
    "            bob.turnLeft(delta)\n",
    "        elif mod.symbol == \"-\":\n",
    "            bob.turnRight(delta)\n",
    "        elif mod.symbol == \"&\":\n",
    "            bob.pitchDown(delta)\n",
    "        elif mod.symbol == \"^\":\n",
    "            bob.pitchUp(delta)\n",
    "        elif mod.symbol == \"\\\\\":\n",
    "            bob.rollLeft(delta)\n",
    "        elif mod.symbol == \"/\":\n",
    "            bob.rollRight(delta)\n",
    "        elif mod.symbol == \"|\":\n",
    "            bob.turnLeft(180)\n",
    "        elif mod.symbol == \"[\":\n",
    "            turtlePosStack.insert(0,bob.getPosition())\n",
    "            turtleHeadStack.insert(0,bob.getHeading())\n",
    "        elif mod.symbol == \"]\":\n",
    "            bob.penUp()\n",
    "            bob.setPosition(turtlePosStack.pop(0))\n",
    "            bob.setHeading(turtleHeadStack.pop(0)) \n",
    "            bob.penDown()\n",
    "    \n",
    "    #point the camera to the center of our drawing\n",
    "    xcenter = (turtleXmax+turtleXmin)/2\n",
    "    ycenter = (turtleYmax+turtleYmin)/2\n",
    "    zcenter = (turtleZmax+turtleZmin)/2\n",
    "    scene.center=vector(xcenter,ycenter,zcenter)\n",
    "    scene.ambient=color.gray(0.4)\n",
    "    return 0\n",
    "    \n",
    "\n",
    "        "
   ]
  },
  {
   "cell_type": "markdown",
   "metadata": {},
   "source": [
    "## 3D turtle graphics applied to a simple L-system"
   ]
  },
  {
   "cell_type": "code",
   "execution_count": 2,
   "metadata": {},
   "outputs": [
    {
     "data": {
      "text/html": [
       "<div id=\"glowscript\" class=\"glowscript\"></div>"
      ],
      "text/plain": [
       "<IPython.core.display.HTML object>"
      ]
     },
     "metadata": {},
     "output_type": "display_data"
    },
    {
     "data": {
      "application/javascript": [
       "if (typeof Jupyter !== \"undefined\") { window.__context = { glowscript_container: $(\"#glowscript\").removeAttr(\"id\")};}else{ element.textContent = ' ';}"
      ],
      "text/plain": [
       "<IPython.core.display.Javascript object>"
      ]
     },
     "metadata": {},
     "output_type": "display_data"
    },
    {
     "data": {
      "application/javascript": [
       "if (typeof Jupyter !== \"undefined\") {require.undef(\"nbextensions/vpython_libraries/glow.min\");}else{element.textContent = ' ';}"
      ],
      "text/plain": [
       "<IPython.core.display.Javascript object>"
      ]
     },
     "metadata": {},
     "output_type": "display_data"
    },
    {
     "data": {
      "application/javascript": [
       "if (typeof Jupyter !== \"undefined\") {require.undef(\"nbextensions/vpython_libraries/glowcomm\");}else{element.textContent = ' ';}"
      ],
      "text/plain": [
       "<IPython.core.display.Javascript object>"
      ]
     },
     "metadata": {},
     "output_type": "display_data"
    },
    {
     "data": {
      "application/javascript": [
       "if (typeof Jupyter !== \"undefined\") {require.undef(\"nbextensions/vpython_libraries/jquery-ui.custom.min\");}else{element.textContent = ' ';}"
      ],
      "text/plain": [
       "<IPython.core.display.Javascript object>"
      ]
     },
     "metadata": {},
     "output_type": "display_data"
    },
    {
     "data": {
      "application/javascript": [
       "if (typeof Jupyter !== \"undefined\") {require([\"nbextensions/vpython_libraries/glow.min\"], function(){console.log(\"GLOW LOADED\");});}else{element.textContent = ' ';}"
      ],
      "text/plain": [
       "<IPython.core.display.Javascript object>"
      ]
     },
     "metadata": {},
     "output_type": "display_data"
    },
    {
     "data": {
      "application/javascript": [
       "if (typeof Jupyter !== \"undefined\") {require([\"nbextensions/vpython_libraries/glowcomm\"], function(){console.log(\"GLOWCOMM LOADED\");});}else{element.textContent = ' ';}"
      ],
      "text/plain": [
       "<IPython.core.display.Javascript object>"
      ]
     },
     "metadata": {},
     "output_type": "display_data"
    },
    {
     "data": {
      "application/javascript": [
       "if (typeof Jupyter !== \"undefined\") {require([\"nbextensions/vpython_libraries/jquery-ui.custom.min\"], function(){console.log(\"JQUERY LOADED\");});}else{element.textContent = ' ';}"
      ],
      "text/plain": [
       "<IPython.core.display.Javascript object>"
      ]
     },
     "metadata": {},
     "output_type": "display_data"
    },
    {
     "data": {
      "text/plain": [
       "0"
      ]
     },
     "execution_count": 2,
     "metadata": {},
     "output_type": "execute_result"
    }
   ],
   "source": [
    "from LSystems import *\n",
    "\n",
    "# Specify L-system\n",
    "axiom = \"A\"    \n",
    "productions = {\"A?[ & F L ! A ] / / / / / ' [ & F L ! A ] / / / / / / / ' [ & F L ! A ]\", \n",
    "               \"F?S / / / / / F\",\n",
    "               \"S?F L\"} \n",
    "nrOfIterations = 5\n",
    "\n",
    "########### MAIN #############\n",
    "\n",
    "# Initialize\n",
    "system = LSystem(axiom,productions)\n",
    "\n",
    "for i in range(nrOfIterations):\n",
    "    tree = system.nextGeneration()\n",
    "    \n",
    "# Visualise\n",
    "turtle_interpretation_3D(tree)"
   ]
  },
  {
   "cell_type": "code",
   "execution_count": null,
   "metadata": {},
   "outputs": [],
   "source": []
  }
 ],
 "metadata": {
  "kernelspec": {
   "display_name": "VPython",
   "language": "python",
   "name": "vpython"
  },
  "language_info": {
   "codemirror_mode": {
    "name": "ipython",
    "version": 3
   },
   "file_extension": ".py",
   "mimetype": "text/x-python",
   "name": "python",
   "nbconvert_exporter": "python",
   "pygments_lexer": "ipython3",
   "version": "3.6.8"
  }
 },
 "nbformat": 4,
 "nbformat_minor": 2
}
